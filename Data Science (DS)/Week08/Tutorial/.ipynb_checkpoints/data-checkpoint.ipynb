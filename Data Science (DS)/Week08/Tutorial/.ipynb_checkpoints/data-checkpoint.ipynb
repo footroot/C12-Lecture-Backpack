{
 "cells": [
  {
   "cell_type": "code",
   "execution_count": 4,
   "id": "0fab405e-051a-4c52-aa54-d1a5286b01cf",
   "metadata": {},
   "outputs": [
    {
     "name": "stdout",
     "output_type": "stream",
     "text": [
      "[ 23.7535179   55.14020605  67.29553704  46.21345945  64.7198118\n",
      "  57.71328262  53.31769504  33.94935004  47.15756254  53.82502166\n",
      "  43.12959522  56.52745232  41.24607425  62.25270608  60.09081209\n",
      "  48.43383285  42.03079435  65.44599028  43.42796566  33.22522631\n",
      "  74.28472491  73.12407762  46.22181291  37.36346393  52.76778036\n",
      "  64.05623302  60.96500516  70.42334188  45.10642911  50.83514022\n",
      "  53.33599413  28.35174507  38.65471542  62.24681017  61.25667142\n",
      "  43.16079609  67.84433402  24.6407476   29.65401427  31.51348229\n",
      "  41.83341257  39.97742395  50.10971845  40.80591897  69.49622112\n",
      "  24.00356565  35.25034851  55.3626163   25.79632246  72.060708\n",
      "  32.17973604  41.7538071   35.89930758  37.58101453  51.63295202\n",
      "  57.61714386  37.0665898   68.74204614  48.80583131  36.65402778\n",
      "  36.77302416  50.27958424  53.56766933  50.20322823  25.46705901\n",
      "  34.33685183  59.19558323  61.0430782   65.40382159  28.51714083\n",
      "  22.3821755   55.49139839  45.02334297  39.66173033  80.51911342\n",
      "  41.73928382  61.25679995  30.39511491  58.70860004  33.43215361\n",
      "  60.35182205  60.30335099  26.49968706  63.57461182  61.68233599\n",
      "  56.42349306  51.63307985  50.42425452  41.31761263  32.00823201\n",
      "  24.41071991  55.53745936  78.1486014   44.34644975  77.47904123\n",
      "  50.04526151  48.85964801  50.05936391  47.22478834  12.69272697\n",
      " 120.         130.         140.        ]\n"
     ]
    }
   ],
   "source": [
    "import numpy as np\n",
    "import pandas as pd\n",
    "import seaborn as sns\n",
    "import matplotlib.pyplot as plt\n",
    "\n",
    "# Generate sample data with outliers\n",
    "np.random.seed(42)\n",
    "data = np.random.normal(loc=50, scale=15, size=100)  # Normal distribution\n",
    "data = np.append(data, [120, 130, 140])  # Add some outliers\n",
    "\n",
    "print(data)\n",
    "# Convert to DataFrame\n",
    "df = pd.DataFrame({'Revenue': data})\n",
    "\n",
    "# Create a Boxplot\n",
    "# plt.figure(figsize=(6, 5))\n",
    "# sns.boxplot(y=df['Revenue'], color='skyblue')\n",
    "\n",
    "# # Add title and labels\n",
    "# plt.title('Boxplot of Revenue with Outliers')\n",
    "# plt.ylabel('Revenue')\n",
    "\n",
    "# # plt.show()"
   ]
  }
 ],
 "metadata": {
  "kernelspec": {
   "display_name": "Python 3 (ipykernel)",
   "language": "python",
   "name": "python3"
  },
  "language_info": {
   "codemirror_mode": {
    "name": "ipython",
    "version": 3
   },
   "file_extension": ".py",
   "mimetype": "text/x-python",
   "name": "python",
   "nbconvert_exporter": "python",
   "pygments_lexer": "ipython3",
   "version": "3.12.7"
  }
 },
 "nbformat": 4,
 "nbformat_minor": 5
}
