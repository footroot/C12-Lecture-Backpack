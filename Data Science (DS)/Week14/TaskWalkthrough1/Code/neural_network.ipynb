{
 "cells": [
  {
   "cell_type": "markdown",
   "metadata": {},
   "source": [
    "Imports"
   ]
  },
  {
   "cell_type": "code",
   "execution_count": 2,
   "metadata": {},
   "outputs": [],
   "source": [
    "import numpy as np"
   ]
  },
  {
   "cell_type": "markdown",
   "metadata": {},
   "source": [
    "Input and Expected Output"
   ]
  },
  {
   "cell_type": "code",
   "execution_count": 3,
   "metadata": {},
   "outputs": [],
   "source": [
    "X = np.array([[1, 1, 0.5],  # Red light, pedestrian present, moderate speed -> STOP\n",
    "              [1, 0, 0.8],  # Red light, no pedestrian, high speed -> STOP\n",
    "              [0, 1, 0.3],  # Green light, pedestrian present, slow speed -> STOP\n",
    "              [0, 0, 0.9]]) # Green light, no pedestrian, high speed -> GO\n",
    "\n",
    "y = np.array([[1], [1], [1], [0]])"
   ]
  },
  {
   "cell_type": "markdown",
   "metadata": {},
   "source": [
    "Weights and Bias"
   ]
  },
  {
   "cell_type": "code",
   "execution_count": 4,
   "metadata": {},
   "outputs": [],
   "source": [
    "np.random.seed(42)\n",
    "weights = np.random.rand(3, 1)\n",
    "bias = np.random.rand(1)"
   ]
  },
  {
   "cell_type": "markdown",
   "metadata": {},
   "source": [
    "Activation Function: Sigmoid Function"
   ]
  },
  {
   "cell_type": "code",
   "execution_count": 5,
   "metadata": {},
   "outputs": [],
   "source": [
    "def sigmoid(x):\n",
    "    return 1 / (1 + np.exp(-x))"
   ]
  },
  {
   "cell_type": "markdown",
   "metadata": {},
   "source": [
    "Forward pass function"
   ]
  },
  {
   "cell_type": "code",
   "execution_count": 6,
   "metadata": {},
   "outputs": [],
   "source": [
    "def forward_pass(inputs, weights, bias):\n",
    "    return sigmoid(np.dot(inputs, weights) + bias)"
   ]
  },
  {
   "cell_type": "markdown",
   "metadata": {},
   "source": [
    "Make a prediction!"
   ]
  },
  {
   "cell_type": "code",
   "execution_count": 7,
   "metadata": {},
   "outputs": [
    {
     "name": "stdout",
     "output_type": "stream",
     "text": [
      "Predicted Decisions: [[0.90803792]\n",
      " [0.8261802 ]\n",
      " [0.85432965]\n",
      " [0.77858735]]\n"
     ]
    }
   ],
   "source": [
    "output = forward_pass(X, weights, bias)\n",
    "print(\"Predicted Decisions:\", output)"
   ]
  },
  {
   "cell_type": "code",
   "execution_count": 8,
   "metadata": {},
   "outputs": [
    {
     "name": "stdout",
     "output_type": "stream",
     "text": [
      "[[0.37454012]\n",
      " [0.95071431]\n",
      " [0.73199394]]\n",
      "[0.59865848]\n"
     ]
    }
   ],
   "source": [
    "print(weights)\n",
    "print(bias)"
   ]
  },
  {
   "cell_type": "code",
   "execution_count": 14,
   "metadata": {},
   "outputs": [
    {
     "name": "stdout",
     "output_type": "stream",
     "text": [
      "[[0.9       ]\n",
      " [0.95071431]\n",
      " [0.2       ]]\n"
     ]
    }
   ],
   "source": [
    "weights[0] = 0.9\n",
    "weights[2] = 0.2\n",
    "print(weights)\n",
    "\n",
    "bias = 0.01"
   ]
  },
  {
   "cell_type": "code",
   "execution_count": 15,
   "metadata": {},
   "outputs": [
    {
     "name": "stdout",
     "output_type": "stream",
     "text": [
      "Predicted Decisions: [[0.87661024]\n",
      " [0.74459692]\n",
      " [0.73511171]\n",
      " [0.54735762]]\n"
     ]
    }
   ],
   "source": [
    "output = forward_pass(X, weights, bias)\n",
    "print(\"Predicted Decisions:\", output)"
   ]
  }
 ],
 "metadata": {
  "kernelspec": {
   "display_name": "Python 3",
   "language": "python",
   "name": "python3"
  },
  "language_info": {
   "codemirror_mode": {
    "name": "ipython",
    "version": 3
   },
   "file_extension": ".py",
   "mimetype": "text/x-python",
   "name": "python",
   "nbconvert_exporter": "python",
   "pygments_lexer": "ipython3",
   "version": "3.10.4"
  }
 },
 "nbformat": 4,
 "nbformat_minor": 2
}
