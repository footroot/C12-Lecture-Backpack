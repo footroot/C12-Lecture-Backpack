{
 "cells": [
  {
   "cell_type": "markdown",
   "metadata": {},
   "source": [
    "# Regular Expressions"
   ]
  },
  {
   "cell_type": "code",
   "execution_count": 1,
   "metadata": {},
   "outputs": [],
   "source": [
    "import re"
   ]
  },
  {
   "cell_type": "markdown",
   "metadata": {},
   "source": [
    "Search string or pattern"
   ]
  },
  {
   "cell_type": "code",
   "execution_count": 2,
   "metadata": {},
   "outputs": [
    {
     "name": "stdout",
     "output_type": "stream",
     "text": [
      "Yes! We have a match!\n"
     ]
    }
   ],
   "source": [
    "txt = \"Across the Universe\"\n",
    "'''\n",
    "Check if the string starts with (^) the word \"Across\" and ends with ($)\n",
    "the letter \"e\". The .* is for any other characters.\n",
    "'''\n",
    "\n",
    "x = re.search(\"^Across.*e$\", txt)\n",
    "\n",
    "if x:\n",
    "  print(\"Yes! We have a match!\")\n",
    "else:\n",
    "  print(\"No match\")"
   ]
  },
  {
   "cell_type": "markdown",
   "metadata": {},
   "source": [
    "Split sentence"
   ]
  },
  {
   "cell_type": "code",
   "execution_count": 3,
   "metadata": {},
   "outputs": [
    {
     "name": "stdout",
     "output_type": "stream",
     "text": [
      "['Across', 'the', 'Universe']\n",
      "['Across', 'the Universe']\n"
     ]
    }
   ],
   "source": [
    "txt = \"Across the Universe\"\n",
    "\n",
    "#Split the string at all white-space character:\n",
    "print(re.split(\"\\\\s+\", txt))\n",
    "\n",
    "#Split the string at the first white-space character:\n",
    "print(re.split(\"\\\\s\", txt, 1))"
   ]
  },
  {
   "cell_type": "markdown",
   "metadata": {},
   "source": [
    "Find pattern using findall"
   ]
  },
  {
   "cell_type": "code",
   "execution_count": 4,
   "metadata": {},
   "outputs": [
    {
     "name": "stdout",
     "output_type": "stream",
     "text": [
      "['oo', 'oo']\n"
     ]
    }
   ],
   "source": [
    "txt = 'The heart is a bloom, shoots up through the stony ground'\n",
    "print(re.findall(\"oo\", txt))"
   ]
  },
  {
   "cell_type": "markdown",
   "metadata": {},
   "source": [
    "Substitute pattern"
   ]
  },
  {
   "cell_type": "code",
   "execution_count": 5,
   "metadata": {},
   "outputs": [
    {
     "name": "stdout",
     "output_type": "stream",
     "text": [
      "But in the end, it does really matter\n"
     ]
    }
   ],
   "source": [
    "txt = \"But in the end, it doesn't even matter\"\n",
    "print(re.sub(\"doesn't even\", \"does really\", txt))"
   ]
  },
  {
   "cell_type": "markdown",
   "metadata": {},
   "source": [
    "Use raw string for regex"
   ]
  },
  {
   "cell_type": "code",
   "execution_count": 6,
   "metadata": {},
   "outputs": [
    {
     "name": "stdout",
     "output_type": "stream",
     "text": [
      "string: C:\\Desktop\n",
      "igel\n",
      "raw string: C:\\Desktop\\nigel\n"
     ]
    }
   ],
   "source": [
    "# normal string vs raw string\n",
    "#string\n",
    "path = (\"C:\\\\Desktop\\nigel\")\n",
    "print(\"string:\",path)\n",
    "\n",
    "# In the above, \\n in \\nigel is taken as newline\n",
    "# Use raw string always while dealing with Regular expressions.\n",
    "\n",
    "#raw string\n",
    "path = (r\"C:\\Desktop\\nigel\")\n",
    "print(\"raw string:\",path)"
   ]
  },
  {
   "cell_type": "markdown",
   "metadata": {},
   "source": [
    "Regex example to remove all numbers from a text string"
   ]
  },
  {
   "cell_type": "code",
   "execution_count": 7,
   "metadata": {},
   "outputs": [
    {
     "name": "stdout",
     "output_type": "stream",
     "text": [
      "Hello  World \n"
     ]
    }
   ],
   "source": [
    "string_with_numbers = \"Hello 2023 World 123\"\n",
    "\n",
    "cleaned_string = re.sub(r\"\\d+\", \"\", string_with_numbers) \n",
    "print(cleaned_string)"
   ]
  },
  {
   "cell_type": "markdown",
   "metadata": {},
   "source": [
    "The regex pattern \\d+ matches one or more digits. By replacing those matches with an empty string \"\", we have removed all the numbers from the original string.\n",
    "\n",
    "Some key things to note about this regex:\n",
    "1. \\d matches any digit character \n",
    "2. `+' means match one or more of the preceding pattern \n",
    "3. r\"\" defines a raw string literal so backslashes don't need to be escaped\n",
    "\n",
    "Additional regex tips for effective data cleaning:\n",
    "1. Use anchors (^ and $) to match the start and end of strings \n",
    "2. Square brackets [] define character ranges to match \n",
    "3. Parentheses () group parts of the pattern \n",
    "4. The pipe | acts as an OR operator"
   ]
  },
  {
   "cell_type": "markdown",
   "metadata": {},
   "source": [
    "### Clean invalid characters\n",
    "Certain special characters like ^, $, and . can cause issues in data analysis. \n",
    "Regex gives precision when removing these characters."
   ]
  },
  {
   "cell_type": "code",
   "execution_count": 8,
   "metadata": {},
   "outputs": [
    {
     "name": "stdout",
     "output_type": "stream",
     "text": [
      "This is an invalid text and it needs cleaning\n"
     ]
    }
   ],
   "source": [
    "string = \")Th@is$ is# an^ inv?alid &te/`/'xt *and! it (n[e|e/ds *cl&ea,n*****ing}\"\n",
    "cleaned = re.sub('[^a-zA-Z0-9 \\n\\\\.]', '', string) \n",
    "print(cleaned)"
   ]
  },
  {
   "cell_type": "markdown",
   "metadata": {},
   "source": [
    "Extract substrings"
   ]
  },
  {
   "cell_type": "code",
   "execution_count": 9,
   "metadata": {},
   "outputs": [
    {
     "name": "stdout",
     "output_type": "stream",
     "text": [
      "987-666-5432\n"
     ]
    }
   ],
   "source": [
    "phone = \"My phone no. is 987-666-5432132443!\" \n",
    "number = re.search(r'\\d{3}-\\d{3}-\\d{4}', phone).group()\n",
    "print(number)"
   ]
  },
  {
   "cell_type": "markdown",
   "metadata": {},
   "source": [
    "Extract timestamps, for example from logfiles"
   ]
  },
  {
   "cell_type": "code",
   "execution_count": 10,
   "metadata": {},
   "outputs": [
    {
     "name": "stdout",
     "output_type": "stream",
     "text": [
      "2023-05-21 12:14:11\n"
     ]
    }
   ],
   "source": [
    "from datetime import datetime\n",
    "\n",
    "timelog = \"21/May/2023:12:14:11\" \n",
    "\n",
    "timestamp = re.search(r'(\\d{2}/\\w{3}/\\d{4}:\\d{2}:\\d{2}:\\d{2})', timelog).groups()[0]\n",
    "print(datetime.strptime(timestamp, \"%d/%b/%Y:%H:%M:%S\"))"
   ]
  }
 ],
 "metadata": {
  "kernelspec": {
   "display_name": "Python 3",
   "language": "python",
   "name": "python3"
  },
  "language_info": {
   "codemirror_mode": {
    "name": "ipython",
    "version": 3
   },
   "file_extension": ".py",
   "mimetype": "text/x-python",
   "name": "python",
   "nbconvert_exporter": "python",
   "pygments_lexer": "ipython3",
   "version": "3.12.2"
  }
 },
 "nbformat": 4,
 "nbformat_minor": 2
}
