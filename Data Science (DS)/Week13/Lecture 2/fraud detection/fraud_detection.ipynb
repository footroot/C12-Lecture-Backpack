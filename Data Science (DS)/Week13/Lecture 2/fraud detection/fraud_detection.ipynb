{
 "cells": [
  {
   "cell_type": "code",
   "execution_count": 1,
   "id": "ee67df68-b667-4be0-9f28-9265f7405676",
   "metadata": {},
   "outputs": [
    {
     "name": "stderr",
     "output_type": "stream",
     "text": [
      "25/03/06 01:07:11 WARN Utils: Your hostname, bonaogeto-HP-EliteBook-x360-1040-G5 resolves to a loopback address: 127.0.1.1; using 192.168.0.103 instead (on interface wlp108s0)\n",
      "25/03/06 01:07:11 WARN Utils: Set SPARK_LOCAL_IP if you need to bind to another address\n",
      "Setting default log level to \"WARN\".\n",
      "To adjust logging level use sc.setLogLevel(newLevel). For SparkR, use setLogLevel(newLevel).\n",
      "25/03/06 01:07:12 WARN NativeCodeLoader: Unable to load native-hadoop library for your platform... using builtin-java classes where applicable\n",
      "                                                                                "
     ]
    },
    {
     "name": "stdout",
     "output_type": "stream",
     "text": [
      "+--------------+-------+-------+--------+--------------------+----------------+-------------+--------------+-----+\n",
      "|transaction_id|user_id| amount|location|                time|transaction_type|       device|previous_fraud|fraud|\n",
      "+--------------+-------+-------+--------+--------------------+----------------+-------------+--------------+-----+\n",
      "|             1|  34340|4626.46|  Moscow|2024-08-26 13:27:...|      Withdrawal|       Mobile|             0|    1|\n",
      "|             2|  31435|  71.81|   Tokyo|2020-12-14 10:14:...|        Transfer|Crypto Wallet|             0|    0|\n",
      "|             3|  27691|9834.56|   Dubai|2023-01-12 07:08:...|    Bill Payment|       Mobile|             0|    0|\n",
      "|             4|  15252|9932.46|   Tokyo|2024-08-05 09:53:...|      Withdrawal|       Mobile|             0|    1|\n",
      "|             5|  24169| 517.29|   Dubai|2020-01-12 11:23:...|      Withdrawal|          ATM|             0|    1|\n",
      "+--------------+-------+-------+--------+--------------------+----------------+-------------+--------------+-----+\n",
      "only showing top 5 rows\n",
      "\n"
     ]
    }
   ],
   "source": [
    "from pyspark.sql import SparkSession\n",
    "\n",
    "spark = SparkSession.builder.appName(\"Fraud Detection\").getOrCreate()\n",
    "df = spark.read.csv(\"transactions.csv\", header=True, inferSchema=True)\n",
    "df.show(5)"
   ]
  },
  {
   "cell_type": "code",
   "execution_count": 2,
   "id": "4c65b600-755f-4329-a9c7-274da12b67a5",
   "metadata": {},
   "outputs": [
    {
     "name": "stdout",
     "output_type": "stream",
     "text": [
      "+--------------+-------+-------+-------------+--------------------+----------------+-------------+--------------+-----+\n",
      "|transaction_id|user_id| amount|     location|                time|transaction_type|       device|previous_fraud|fraud|\n",
      "+--------------+-------+-------+-------------+--------------------+----------------+-------------+--------------+-----+\n",
      "|             3|  27691|9834.56|        Dubai|2023-01-12 07:08:...|    Bill Payment|       Mobile|             0|    0|\n",
      "|             4|  15252|9932.46|        Tokyo|2024-08-05 09:53:...|      Withdrawal|       Mobile|             0|    1|\n",
      "|             6|  26064|7641.76|    Las Vegas|2024-03-15 20:35:...|      Withdrawal|          POS|             0|    1|\n",
      "|             8|  16757|7364.33|       Moscow|2021-10-25 06:28:...|    Bill Payment|       Mobile|             0|    1|\n",
      "|             9|  36631|6881.56|       London|2021-12-25 16:55:...|        Purchase|Crypto Wallet|             0|    1|\n",
      "|            10|  46028|7679.67|      Chicago|2024-06-09 16:58:...|    Bill Payment|          POS|             0|    0|\n",
      "|            12|  36316|9381.31|        Tokyo|2024-05-07 13:57:...|         Deposit|          Web|             0|    0|\n",
      "|            14|  41630|9353.21|       London|2024-09-22 13:51:...|        Purchase|          Web|             0|    1|\n",
      "|            15|  49666|9551.65|      Chicago|2021-07-27 11:21:...|    Bill Payment|Crypto Wallet|             0|    1|\n",
      "|            16|  20760|7533.94|      Chicago|2023-07-21 22:17:...|         Deposit|          ATM|             0|    0|\n",
      "|            20|  16312|6777.92|  Los Angeles|2024-12-15 06:14:...|        Purchase|          POS|             0|    1|\n",
      "|            21|  13917|5805.23|        Dubai|2024-10-01 13:04:...|    Bill Payment|          Web|             0|    1|\n",
      "|            22|   2686|8010.78|    Las Vegas|2024-06-25 15:25:...|         Deposit|          ATM|             0|    1|\n",
      "|            24|  18342|9584.95|San Francisco|2022-12-05 05:17:...|         Deposit|          POS|             0|    0|\n",
      "|            25|  42136|8351.53|     New York|2024-08-11 00:45:...|        Purchase|       Mobile|             0|    1|\n",
      "|            27|  17749|7891.39|       Moscow|2021-07-20 09:37:...|         Deposit|       Mobile|             0|    0|\n",
      "|            28|  26308|8682.83|        Tokyo|2022-11-03 00:31:...|         Deposit|Crypto Wallet|             0|    1|\n",
      "|            29|  24715|9267.21|      Chicago|2020-11-06 16:01:...|         Deposit|          ATM|             0|    1|\n",
      "|            30|  25253|6359.63|    Las Vegas|2024-09-07 15:57:...|        Purchase|          ATM|             0|    1|\n",
      "|            31|  19886|8610.02|     New York|2020-10-25 19:58:...|    Bill Payment|          ATM|             0|    1|\n",
      "+--------------+-------+-------+-------------+--------------------+----------------+-------------+--------------+-----+\n",
      "only showing top 20 rows\n",
      "\n"
     ]
    }
   ],
   "source": [
    "df.filter(df[\"amount\"] > 5000).show()"
   ]
  },
  {
   "cell_type": "code",
   "execution_count": 3,
   "id": "6fe07c68-af9a-45bc-b4ec-9fe1908f7688",
   "metadata": {},
   "outputs": [
    {
     "name": "stdout",
     "output_type": "stream",
     "text": [
      "+-------------+-----+\n",
      "|     location|count|\n",
      "+-------------+-----+\n",
      "|       London| 5126|\n",
      "|     New York| 5082|\n",
      "|        Dubai| 5035|\n",
      "|        Miami| 5016|\n",
      "|    Las Vegas| 5009|\n",
      "|        Tokyo| 5003|\n",
      "|  Los Angeles| 4966|\n",
      "|       Moscow| 4945|\n",
      "|      Chicago| 4921|\n",
      "|San Francisco| 4897|\n",
      "+-------------+-----+\n",
      "\n"
     ]
    }
   ],
   "source": [
    "df.groupBy(\"location\").count().orderBy(\"count\", ascending=False).show()"
   ]
  },
  {
   "cell_type": "code",
   "execution_count": 4,
   "id": "fca0432d-120c-4c26-a9d4-c173e1dc871e",
   "metadata": {},
   "outputs": [
    {
     "name": "stdout",
     "output_type": "stream",
     "text": [
      "+--------------+-------+-------+-----------+--------------------+----------------+-------------+--------------+-----+\n",
      "|transaction_id|user_id| amount|   location|                time|transaction_type|       device|previous_fraud|fraud|\n",
      "+--------------+-------+-------+-----------+--------------------+----------------+-------------+--------------+-----+\n",
      "|             1|  34340|4626.46|     Moscow|2024-08-26 13:27:...|      Withdrawal|       Mobile|             0|    1|\n",
      "|             2|  31435|  71.81|      Tokyo|2020-12-14 10:14:...|        Transfer|Crypto Wallet|             0|    0|\n",
      "|             3|  27691|9834.56|      Dubai|2023-01-12 07:08:...|    Bill Payment|       Mobile|             0|    0|\n",
      "|             4|  15252|9932.46|      Tokyo|2024-08-05 09:53:...|      Withdrawal|       Mobile|             0|    1|\n",
      "|             5|  24169| 517.29|      Dubai|2020-01-12 11:23:...|      Withdrawal|          ATM|             0|    1|\n",
      "|             6|  26064|7641.76|  Las Vegas|2024-03-15 20:35:...|      Withdrawal|          POS|             0|    1|\n",
      "|             7|   5422| 4063.0|   New York|2024-11-02 13:03:...|    Bill Payment|       Mobile|             0|    0|\n",
      "|             8|  16757|7364.33|     Moscow|2021-10-25 06:28:...|    Bill Payment|       Mobile|             0|    1|\n",
      "|             9|  36631|6881.56|     London|2021-12-25 16:55:...|        Purchase|Crypto Wallet|             0|    1|\n",
      "|            10|  46028|7679.67|    Chicago|2024-06-09 16:58:...|    Bill Payment|          POS|             0|    0|\n",
      "|            11|  15414|1214.95|     London|2022-01-10 18:27:...|      Withdrawal|       Mobile|             0|    0|\n",
      "|            12|  36316|9381.31|      Tokyo|2024-05-07 13:57:...|         Deposit|          Web|             0|    0|\n",
      "|            13|  42480|4583.76|      Dubai|2020-12-14 11:04:...|      Withdrawal|          ATM|             0|    1|\n",
      "|            14|  41630|9353.21|     London|2024-09-22 13:51:...|        Purchase|          Web|             0|    1|\n",
      "|            15|  49666|9551.65|    Chicago|2021-07-27 11:21:...|    Bill Payment|Crypto Wallet|             0|    1|\n",
      "|            16|  20760|7533.94|    Chicago|2023-07-21 22:17:...|         Deposit|          ATM|             0|    0|\n",
      "|            17|   4496|4788.07|     London|2022-02-20 03:11:...|        Purchase|          ATM|             0|    1|\n",
      "|            18|  21057|2519.87|     London|2021-05-15 23:05:...|         Deposit|       Mobile|             0|    0|\n",
      "|            19|  20065| 2287.5|    Chicago|2024-09-13 19:42:...|      Withdrawal|          POS|             0|    0|\n",
      "|            20|  16312|6777.92|Los Angeles|2024-12-15 06:14:...|        Purchase|          POS|             0|    1|\n",
      "+--------------+-------+-------+-----------+--------------------+----------------+-------------+--------------+-----+\n",
      "only showing top 20 rows\n",
      "\n"
     ]
    }
   ],
   "source": [
    "from pyspark.ml.classification import LogisticRegression\n",
    "from pyspark.ml.feature import StringIndexer, VectorAssembler\n",
    "\n",
    "indexer = StringIndexer(inputCol=\"location\", outputCol=\"location_indexed\")\n",
    "# df = indexer.fit(df).transform(df)\n",
    "df.show()"
   ]
  },
  {
   "cell_type": "code",
   "execution_count": 5,
   "id": "a53b49b0-19fa-4330-834f-d14a56c32996",
   "metadata": {},
   "outputs": [
    {
     "name": "stdout",
     "output_type": "stream",
     "text": [
      "+--------------+-------+-------+-----------+--------------------+----------------+-------------+--------------+-----+\n",
      "|transaction_id|user_id| amount|   location|                time|transaction_type|       device|previous_fraud|fraud|\n",
      "+--------------+-------+-------+-----------+--------------------+----------------+-------------+--------------+-----+\n",
      "|             1|  34340|4626.46|     Moscow|2024-08-26 13:27:...|      Withdrawal|       Mobile|             0|    1|\n",
      "|             2|  31435|  71.81|      Tokyo|2020-12-14 10:14:...|        Transfer|Crypto Wallet|             0|    0|\n",
      "|             3|  27691|9834.56|      Dubai|2023-01-12 07:08:...|    Bill Payment|       Mobile|             0|    0|\n",
      "|             4|  15252|9932.46|      Tokyo|2024-08-05 09:53:...|      Withdrawal|       Mobile|             0|    1|\n",
      "|             5|  24169| 517.29|      Dubai|2020-01-12 11:23:...|      Withdrawal|          ATM|             0|    1|\n",
      "|             6|  26064|7641.76|  Las Vegas|2024-03-15 20:35:...|      Withdrawal|          POS|             0|    1|\n",
      "|             7|   5422| 4063.0|   New York|2024-11-02 13:03:...|    Bill Payment|       Mobile|             0|    0|\n",
      "|             8|  16757|7364.33|     Moscow|2021-10-25 06:28:...|    Bill Payment|       Mobile|             0|    1|\n",
      "|             9|  36631|6881.56|     London|2021-12-25 16:55:...|        Purchase|Crypto Wallet|             0|    1|\n",
      "|            10|  46028|7679.67|    Chicago|2024-06-09 16:58:...|    Bill Payment|          POS|             0|    0|\n",
      "|            11|  15414|1214.95|     London|2022-01-10 18:27:...|      Withdrawal|       Mobile|             0|    0|\n",
      "|            12|  36316|9381.31|      Tokyo|2024-05-07 13:57:...|         Deposit|          Web|             0|    0|\n",
      "|            13|  42480|4583.76|      Dubai|2020-12-14 11:04:...|      Withdrawal|          ATM|             0|    1|\n",
      "|            14|  41630|9353.21|     London|2024-09-22 13:51:...|        Purchase|          Web|             0|    1|\n",
      "|            15|  49666|9551.65|    Chicago|2021-07-27 11:21:...|    Bill Payment|Crypto Wallet|             0|    1|\n",
      "|            16|  20760|7533.94|    Chicago|2023-07-21 22:17:...|         Deposit|          ATM|             0|    0|\n",
      "|            17|   4496|4788.07|     London|2022-02-20 03:11:...|        Purchase|          ATM|             0|    1|\n",
      "|            18|  21057|2519.87|     London|2021-05-15 23:05:...|         Deposit|       Mobile|             0|    0|\n",
      "|            19|  20065| 2287.5|    Chicago|2024-09-13 19:42:...|      Withdrawal|          POS|             0|    0|\n",
      "|            20|  16312|6777.92|Los Angeles|2024-12-15 06:14:...|        Purchase|          POS|             0|    1|\n",
      "+--------------+-------+-------+-----------+--------------------+----------------+-------------+--------------+-----+\n",
      "only showing top 20 rows\n",
      "\n"
     ]
    }
   ],
   "source": [
    "assembler = VectorAssembler(inputCols=[\"amount\", \"location_indexed\"], outputCol=\"features\")\n",
    "# df = assembler.transform(df)\n",
    "df.show()"
   ]
  },
  {
   "cell_type": "code",
   "execution_count": 6,
   "id": "36cf8e97-a175-477e-8b44-eec53492effe",
   "metadata": {},
   "outputs": [
    {
     "ename": "IllegalArgumentException",
     "evalue": "features does not exist. Available: transaction_id, user_id, amount, location, time, transaction_type, device, previous_fraud, fraud",
     "output_type": "error",
     "traceback": [
      "\u001b[0;31m---------------------------------------------------------------------------\u001b[0m",
      "\u001b[0;31mIllegalArgumentException\u001b[0m                  Traceback (most recent call last)",
      "Cell \u001b[0;32mIn[6], line 2\u001b[0m\n\u001b[1;32m      1\u001b[0m lr \u001b[38;5;241m=\u001b[39m LogisticRegression(featuresCol\u001b[38;5;241m=\u001b[39m\u001b[38;5;124m\"\u001b[39m\u001b[38;5;124mfeatures\u001b[39m\u001b[38;5;124m\"\u001b[39m, labelCol\u001b[38;5;241m=\u001b[39m\u001b[38;5;124m\"\u001b[39m\u001b[38;5;124mfraud\u001b[39m\u001b[38;5;124m\"\u001b[39m)\n\u001b[0;32m----> 2\u001b[0m model \u001b[38;5;241m=\u001b[39m \u001b[43mlr\u001b[49m\u001b[38;5;241;43m.\u001b[39;49m\u001b[43mfit\u001b[49m\u001b[43m(\u001b[49m\u001b[43mdf\u001b[49m\u001b[43m)\u001b[49m\n\u001b[1;32m      4\u001b[0m \u001b[38;5;66;03m# predict fraud cases\u001b[39;00m\n\u001b[1;32m      5\u001b[0m predictions \u001b[38;5;241m=\u001b[39m model\u001b[38;5;241m.\u001b[39mtransform(df)\n",
      "File \u001b[0;32m~/data-science/dsenv/lib/python3.12/site-packages/pyspark/ml/base.py:205\u001b[0m, in \u001b[0;36mEstimator.fit\u001b[0;34m(self, dataset, params)\u001b[0m\n\u001b[1;32m    203\u001b[0m         \u001b[38;5;28;01mreturn\u001b[39;00m \u001b[38;5;28mself\u001b[39m\u001b[38;5;241m.\u001b[39mcopy(params)\u001b[38;5;241m.\u001b[39m_fit(dataset)\n\u001b[1;32m    204\u001b[0m     \u001b[38;5;28;01melse\u001b[39;00m:\n\u001b[0;32m--> 205\u001b[0m         \u001b[38;5;28;01mreturn\u001b[39;00m \u001b[38;5;28;43mself\u001b[39;49m\u001b[38;5;241;43m.\u001b[39;49m\u001b[43m_fit\u001b[49m\u001b[43m(\u001b[49m\u001b[43mdataset\u001b[49m\u001b[43m)\u001b[49m\n\u001b[1;32m    206\u001b[0m \u001b[38;5;28;01melse\u001b[39;00m:\n\u001b[1;32m    207\u001b[0m     \u001b[38;5;28;01mraise\u001b[39;00m \u001b[38;5;167;01mTypeError\u001b[39;00m(\n\u001b[1;32m    208\u001b[0m         \u001b[38;5;124m\"\u001b[39m\u001b[38;5;124mParams must be either a param map or a list/tuple of param maps, \u001b[39m\u001b[38;5;124m\"\u001b[39m\n\u001b[1;32m    209\u001b[0m         \u001b[38;5;124m\"\u001b[39m\u001b[38;5;124mbut got \u001b[39m\u001b[38;5;132;01m%s\u001b[39;00m\u001b[38;5;124m.\u001b[39m\u001b[38;5;124m\"\u001b[39m \u001b[38;5;241m%\u001b[39m \u001b[38;5;28mtype\u001b[39m(params)\n\u001b[1;32m    210\u001b[0m     )\n",
      "File \u001b[0;32m~/data-science/dsenv/lib/python3.12/site-packages/pyspark/ml/wrapper.py:381\u001b[0m, in \u001b[0;36mJavaEstimator._fit\u001b[0;34m(self, dataset)\u001b[0m\n\u001b[1;32m    380\u001b[0m \u001b[38;5;28;01mdef\u001b[39;00m \u001b[38;5;21m_fit\u001b[39m(\u001b[38;5;28mself\u001b[39m, dataset: DataFrame) \u001b[38;5;241m-\u001b[39m\u001b[38;5;241m>\u001b[39m JM:\n\u001b[0;32m--> 381\u001b[0m     java_model \u001b[38;5;241m=\u001b[39m \u001b[38;5;28;43mself\u001b[39;49m\u001b[38;5;241;43m.\u001b[39;49m\u001b[43m_fit_java\u001b[49m\u001b[43m(\u001b[49m\u001b[43mdataset\u001b[49m\u001b[43m)\u001b[49m\n\u001b[1;32m    382\u001b[0m     model \u001b[38;5;241m=\u001b[39m \u001b[38;5;28mself\u001b[39m\u001b[38;5;241m.\u001b[39m_create_model(java_model)\n\u001b[1;32m    383\u001b[0m     \u001b[38;5;28;01mreturn\u001b[39;00m \u001b[38;5;28mself\u001b[39m\u001b[38;5;241m.\u001b[39m_copyValues(model)\n",
      "File \u001b[0;32m~/data-science/dsenv/lib/python3.12/site-packages/pyspark/ml/wrapper.py:378\u001b[0m, in \u001b[0;36mJavaEstimator._fit_java\u001b[0;34m(self, dataset)\u001b[0m\n\u001b[1;32m    375\u001b[0m \u001b[38;5;28;01massert\u001b[39;00m \u001b[38;5;28mself\u001b[39m\u001b[38;5;241m.\u001b[39m_java_obj \u001b[38;5;129;01mis\u001b[39;00m \u001b[38;5;129;01mnot\u001b[39;00m \u001b[38;5;28;01mNone\u001b[39;00m\n\u001b[1;32m    377\u001b[0m \u001b[38;5;28mself\u001b[39m\u001b[38;5;241m.\u001b[39m_transfer_params_to_java()\n\u001b[0;32m--> 378\u001b[0m \u001b[38;5;28;01mreturn\u001b[39;00m \u001b[38;5;28;43mself\u001b[39;49m\u001b[38;5;241;43m.\u001b[39;49m\u001b[43m_java_obj\u001b[49m\u001b[38;5;241;43m.\u001b[39;49m\u001b[43mfit\u001b[49m\u001b[43m(\u001b[49m\u001b[43mdataset\u001b[49m\u001b[38;5;241;43m.\u001b[39;49m\u001b[43m_jdf\u001b[49m\u001b[43m)\u001b[49m\n",
      "File \u001b[0;32m~/data-science/dsenv/lib/python3.12/site-packages/py4j/java_gateway.py:1322\u001b[0m, in \u001b[0;36mJavaMember.__call__\u001b[0;34m(self, *args)\u001b[0m\n\u001b[1;32m   1316\u001b[0m command \u001b[38;5;241m=\u001b[39m proto\u001b[38;5;241m.\u001b[39mCALL_COMMAND_NAME \u001b[38;5;241m+\u001b[39m\\\n\u001b[1;32m   1317\u001b[0m     \u001b[38;5;28mself\u001b[39m\u001b[38;5;241m.\u001b[39mcommand_header \u001b[38;5;241m+\u001b[39m\\\n\u001b[1;32m   1318\u001b[0m     args_command \u001b[38;5;241m+\u001b[39m\\\n\u001b[1;32m   1319\u001b[0m     proto\u001b[38;5;241m.\u001b[39mEND_COMMAND_PART\n\u001b[1;32m   1321\u001b[0m answer \u001b[38;5;241m=\u001b[39m \u001b[38;5;28mself\u001b[39m\u001b[38;5;241m.\u001b[39mgateway_client\u001b[38;5;241m.\u001b[39msend_command(command)\n\u001b[0;32m-> 1322\u001b[0m return_value \u001b[38;5;241m=\u001b[39m \u001b[43mget_return_value\u001b[49m\u001b[43m(\u001b[49m\n\u001b[1;32m   1323\u001b[0m \u001b[43m    \u001b[49m\u001b[43manswer\u001b[49m\u001b[43m,\u001b[49m\u001b[43m \u001b[49m\u001b[38;5;28;43mself\u001b[39;49m\u001b[38;5;241;43m.\u001b[39;49m\u001b[43mgateway_client\u001b[49m\u001b[43m,\u001b[49m\u001b[43m \u001b[49m\u001b[38;5;28;43mself\u001b[39;49m\u001b[38;5;241;43m.\u001b[39;49m\u001b[43mtarget_id\u001b[49m\u001b[43m,\u001b[49m\u001b[43m \u001b[49m\u001b[38;5;28;43mself\u001b[39;49m\u001b[38;5;241;43m.\u001b[39;49m\u001b[43mname\u001b[49m\u001b[43m)\u001b[49m\n\u001b[1;32m   1325\u001b[0m \u001b[38;5;28;01mfor\u001b[39;00m temp_arg \u001b[38;5;129;01min\u001b[39;00m temp_args:\n\u001b[1;32m   1326\u001b[0m     \u001b[38;5;28;01mif\u001b[39;00m \u001b[38;5;28mhasattr\u001b[39m(temp_arg, \u001b[38;5;124m\"\u001b[39m\u001b[38;5;124m_detach\u001b[39m\u001b[38;5;124m\"\u001b[39m):\n",
      "File \u001b[0;32m~/data-science/dsenv/lib/python3.12/site-packages/pyspark/errors/exceptions/captured.py:185\u001b[0m, in \u001b[0;36mcapture_sql_exception.<locals>.deco\u001b[0;34m(*a, **kw)\u001b[0m\n\u001b[1;32m    181\u001b[0m converted \u001b[38;5;241m=\u001b[39m convert_exception(e\u001b[38;5;241m.\u001b[39mjava_exception)\n\u001b[1;32m    182\u001b[0m \u001b[38;5;28;01mif\u001b[39;00m \u001b[38;5;129;01mnot\u001b[39;00m \u001b[38;5;28misinstance\u001b[39m(converted, UnknownException):\n\u001b[1;32m    183\u001b[0m     \u001b[38;5;66;03m# Hide where the exception came from that shows a non-Pythonic\u001b[39;00m\n\u001b[1;32m    184\u001b[0m     \u001b[38;5;66;03m# JVM exception message.\u001b[39;00m\n\u001b[0;32m--> 185\u001b[0m     \u001b[38;5;28;01mraise\u001b[39;00m converted \u001b[38;5;28;01mfrom\u001b[39;00m \u001b[38;5;28;01mNone\u001b[39;00m\n\u001b[1;32m    186\u001b[0m \u001b[38;5;28;01melse\u001b[39;00m:\n\u001b[1;32m    187\u001b[0m     \u001b[38;5;28;01mraise\u001b[39;00m\n",
      "\u001b[0;31mIllegalArgumentException\u001b[0m: features does not exist. Available: transaction_id, user_id, amount, location, time, transaction_type, device, previous_fraud, fraud"
     ]
    }
   ],
   "source": [
    "lr = LogisticRegression(featuresCol=\"features\", labelCol=\"fraud\")\n",
    "model = lr.fit(df)\n",
    "\n",
    "# predict fraud cases\n",
    "predictions = model.transform(df)\n",
    "predictions.select(\"fraud\", \"prediction\").show()"
   ]
  },
  {
   "cell_type": "code",
   "execution_count": null,
   "id": "1d10fda1-4994-4ad5-85e1-902cb9f573db",
   "metadata": {},
   "outputs": [],
   "source": [
    "df.show()"
   ]
  },
  {
   "cell_type": "code",
   "execution_count": null,
   "id": "de501e25-c1f2-4cfc-af56-98bcad86d55b",
   "metadata": {},
   "outputs": [],
   "source": [
    "from pyspark.sql.types import StructType, StructField, FloatType, IntegerType, StringType\n",
    "from pyspark.sql import functions as F\n",
    "\n",
    "schema = StructType([\n",
    "    StructField(\"transaction_id\", IntegerType()),\n",
    "    StructField(\"user_id\", IntegerType()),\n",
    "    StructField(\"amount\", FloatType()),\n",
    "    StructField(\"location\", StringType()),\n",
    "    StructField(\"time\", StringType())\n",
    "])\n",
    "\n",
    "streaming_df = spark.readStream.schema(schema).csv(\"streaming_data/\")\n",
    "predictions = model.transform(streaming_df)\n",
    "\n",
    "query = predictions.writeStream.outputMode(\"append\").format(\"console\").start()\n",
    "query.awaitTermination()"
   ]
  }
 ],
 "metadata": {
  "kernelspec": {
   "display_name": "Python 3 (ipykernel)",
   "language": "python",
   "name": "python3"
  },
  "language_info": {
   "codemirror_mode": {
    "name": "ipython",
    "version": 3
   },
   "file_extension": ".py",
   "mimetype": "text/x-python",
   "name": "python",
   "nbconvert_exporter": "python",
   "pygments_lexer": "ipython3",
   "version": "3.12.7"
  }
 },
 "nbformat": 4,
 "nbformat_minor": 5
}
