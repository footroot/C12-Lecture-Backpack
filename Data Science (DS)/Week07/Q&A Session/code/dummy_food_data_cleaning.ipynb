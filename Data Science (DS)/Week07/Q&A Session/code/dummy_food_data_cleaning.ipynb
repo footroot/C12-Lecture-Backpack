{
 "cells": [
  {
   "cell_type": "code",
   "execution_count": 2,
   "id": "67ebdc0b-0071-465b-b622-a0db316cbb28",
   "metadata": {},
   "outputs": [],
   "source": [
    "import pandas as pd\n",
    "\n",
    "# load datasets\n",
    "donations = pd.read_csv(\"donations.csv\")\n",
    "hunger = pd.read_csv(\"hunger.csv\")\n",
    "wastage = pd.read_csv(\"food_wastage.csv\")"
   ]
  },
  {
   "cell_type": "code",
   "execution_count": 3,
   "id": "9a7fdff7-2748-4e8c-b4d7-087bf6d8a253",
   "metadata": {},
   "outputs": [
    {
     "name": "stdout",
     "output_type": "stream",
     "text": [
      "            region  donation_amount donation_type        date\n",
      "0     North Africa          6324.54          food  2025-01-01\n",
      "1     North Africa          5776.00           NaN  Feb 5 2025\n",
      "2   Central Africa          5978.00          food  2025/03/01\n",
      "3  Southern Africa          6789.00         Money         NaN\n",
      "4     North Africa           438.55          Food  03-25-2025\n"
     ]
    }
   ],
   "source": [
    "print(donations.head())"
   ]
  },
  {
   "cell_type": "code",
   "execution_count": 27,
   "id": "c49a6cd1-0639-41ae-a916-03e0c16fae5f",
   "metadata": {},
   "outputs": [
    {
     "name": "stdout",
     "output_type": "stream",
     "text": [
      "            region  donation_amount donation_type       date\n",
      "0     North Africa          6324.54          food 2025-01-01\n",
      "1     North Africa          5776.00           NaN        NaT\n",
      "2   Central Africa          5978.00          food        NaT\n",
      "3  Southern Africa          6789.00         Money        NaT\n",
      "4     North Africa           438.55          Food        NaT\n"
     ]
    }
   ],
   "source": [
    "donations['date'] = pd.to_datetime(donations['date'], errors='coerce')\n",
    "print(donations.head())"
   ]
  },
  {
   "cell_type": "code",
   "execution_count": 4,
   "id": "64a6ee25-66ab-4245-a040-b8f581c46cfd",
   "metadata": {},
   "outputs": [
    {
     "name": "stdout",
     "output_type": "stream",
     "text": [
      "<class 'pandas.core.frame.DataFrame'>\n",
      "RangeIndex: 500 entries, 0 to 499\n",
      "Data columns (total 3 columns):\n",
      " #   Column        Non-Null Count  Dtype  \n",
      "---  ------        --------------  -----  \n",
      " 0   region        415 non-null    object \n",
      " 1   hunger_index  351 non-null    float64\n",
      " 2   population    331 non-null    float64\n",
      "dtypes: float64(2), object(1)\n",
      "memory usage: 11.8+ KB\n",
      "None\n"
     ]
    }
   ],
   "source": [
    "print(hunger.info())"
   ]
  },
  {
   "cell_type": "code",
   "execution_count": 7,
   "id": "3b71d488-984b-4b9d-9853-acfe0ecc92a5",
   "metadata": {},
   "outputs": [
    {
     "name": "stdout",
     "output_type": "stream",
     "text": [
      "            region  food_wastage\n",
      "0  Southern Africa           NaN\n",
      "1              NaN        3957.8\n",
      "2      East Africa        2153.0\n",
      "3              NaN        1914.2\n",
      "4  Southern Africa           NaN\n"
     ]
    }
   ],
   "source": [
    "print(wastage.head())"
   ]
  },
  {
   "cell_type": "code",
   "execution_count": 5,
   "id": "23695a2b-42f6-4b7e-8091-57ce1af92688",
   "metadata": {},
   "outputs": [
    {
     "name": "stdout",
     "output_type": "stream",
     "text": [
      "donation duplicates 45\n",
      "hunger duplicates 59\n",
      "wastage duplicates 173\n"
     ]
    }
   ],
   "source": [
    "donations_duplicates = donations.duplicated().sum()\n",
    "hunger_duplicates = hunger.duplicated().sum()\n",
    "wastage_duplicates = wastage.duplicated().sum()\n",
    "print(\"donation duplicates\", donations_duplicates)\n",
    "print(\"hunger duplicates\", hunger_duplicates)\n",
    "print(\"wastage duplicates\", wastage_duplicates)"
   ]
  },
  {
   "cell_type": "code",
   "execution_count": 6,
   "id": "7a65e386-79bf-4312-bd6e-f16be452ff9b",
   "metadata": {},
   "outputs": [
    {
     "name": "stdout",
     "output_type": "stream",
     "text": [
      "region              72\n",
      "donation_amount    153\n",
      "donation_type       64\n",
      "date                90\n",
      "dtype: int64\n"
     ]
    }
   ],
   "source": [
    "print(donations.isnull().sum())"
   ]
  },
  {
   "cell_type": "code",
   "execution_count": 7,
   "id": "8d14fabd-fbba-43f0-aa14-d9bb23a1859b",
   "metadata": {},
   "outputs": [
    {
     "name": "stdout",
     "output_type": "stream",
     "text": [
      "<class 'pandas.core.frame.DataFrame'>\n",
      "RangeIndex: 500 entries, 0 to 499\n",
      "Data columns (total 2 columns):\n",
      " #   Column        Non-Null Count  Dtype  \n",
      "---  ------        --------------  -----  \n",
      " 0   region        422 non-null    object \n",
      " 1   food_wastage  322 non-null    float64\n",
      "dtypes: float64(1), object(1)\n",
      "memory usage: 7.9+ KB\n",
      "None\n"
     ]
    }
   ],
   "source": [
    "print(wastage.info())"
   ]
  },
  {
   "cell_type": "code",
   "execution_count": 8,
   "id": "6a4478e0-ba10-4be4-ae2a-9bc35d5aa364",
   "metadata": {
    "scrolled": true
   },
   "outputs": [
    {
     "name": "stdout",
     "output_type": "stream",
     "text": [
      "['Southern Africa' 'Central Africa' 'North Africa' nan 'East Africa'\n",
      " 'West Africa']\n"
     ]
    }
   ],
   "source": [
    "print(hunger['region'].unique())"
   ]
  },
  {
   "cell_type": "code",
   "execution_count": 9,
   "id": "d94acfc3-dee1-4194-b40f-ea5b412c3b48",
   "metadata": {},
   "outputs": [
    {
     "name": "stdout",
     "output_type": "stream",
     "text": [
      "region             72\n",
      "donation_amount     0\n",
      "donation_type      64\n",
      "date               90\n",
      "dtype: int64\n"
     ]
    }
   ],
   "source": [
    "# impute\n",
    "donations['donation_amount'] = donations['donation_amount'].fillna(donations['donation_amount'].median())\n",
    "print(donations.isnull().sum())"
   ]
  },
  {
   "cell_type": "code",
   "execution_count": 11,
   "id": "15bed26d-1804-46c8-ba1a-3d815ae24be1",
   "metadata": {},
   "outputs": [
    {
     "name": "stdout",
     "output_type": "stream",
     "text": [
      "region              0\n",
      "donation_amount     0\n",
      "donation_type      57\n",
      "date               71\n",
      "dtype: int64\n"
     ]
    }
   ],
   "source": [
    "donations.dropna(subset=['region'], inplace=True)\n",
    "print(donations.isnull().sum())"
   ]
  },
  {
   "cell_type": "code",
   "execution_count": 12,
   "id": "250100fa-a886-4dc9-a0d5-6cb71218f475",
   "metadata": {},
   "outputs": [
    {
     "data": {
      "text/html": [
       "<div>\n",
       "<style scoped>\n",
       "    .dataframe tbody tr th:only-of-type {\n",
       "        vertical-align: middle;\n",
       "    }\n",
       "\n",
       "    .dataframe tbody tr th {\n",
       "        vertical-align: top;\n",
       "    }\n",
       "\n",
       "    .dataframe thead th {\n",
       "        text-align: right;\n",
       "    }\n",
       "</style>\n",
       "<table border=\"1\" class=\"dataframe\">\n",
       "  <thead>\n",
       "    <tr style=\"text-align: right;\">\n",
       "      <th></th>\n",
       "      <th>region</th>\n",
       "      <th>donation_amount</th>\n",
       "      <th>donation_type</th>\n",
       "      <th>date</th>\n",
       "    </tr>\n",
       "  </thead>\n",
       "  <tbody>\n",
       "    <tr>\n",
       "      <th>0</th>\n",
       "      <td>North Africa</td>\n",
       "      <td>6324.54</td>\n",
       "      <td>food</td>\n",
       "      <td>2025-01-01</td>\n",
       "    </tr>\n",
       "    <tr>\n",
       "      <th>1</th>\n",
       "      <td>North Africa</td>\n",
       "      <td>5776.00</td>\n",
       "      <td>NaN</td>\n",
       "      <td>Feb 5 2025</td>\n",
       "    </tr>\n",
       "    <tr>\n",
       "      <th>2</th>\n",
       "      <td>Central Africa</td>\n",
       "      <td>5978.00</td>\n",
       "      <td>food</td>\n",
       "      <td>2025/03/01</td>\n",
       "    </tr>\n",
       "    <tr>\n",
       "      <th>3</th>\n",
       "      <td>Southern Africa</td>\n",
       "      <td>6789.00</td>\n",
       "      <td>Money</td>\n",
       "      <td>NaN</td>\n",
       "    </tr>\n",
       "    <tr>\n",
       "      <th>4</th>\n",
       "      <td>North Africa</td>\n",
       "      <td>438.55</td>\n",
       "      <td>Food</td>\n",
       "      <td>03-25-2025</td>\n",
       "    </tr>\n",
       "  </tbody>\n",
       "</table>\n",
       "</div>"
      ],
      "text/plain": [
       "            region  donation_amount donation_type        date\n",
       "0     North Africa          6324.54          food  2025-01-01\n",
       "1     North Africa          5776.00           NaN  Feb 5 2025\n",
       "2   Central Africa          5978.00          food  2025/03/01\n",
       "3  Southern Africa          6789.00         Money         NaN\n",
       "4     North Africa           438.55          Food  03-25-2025"
      ]
     },
     "execution_count": 12,
     "metadata": {},
     "output_type": "execute_result"
    }
   ],
   "source": [
    "donations['region'] = donations['region'].str.strip().str.title()\n",
    "donations.head()"
   ]
  },
  {
   "cell_type": "code",
   "execution_count": 21,
   "id": "ebbabc94-ff0a-4fbb-b9a4-42ec1a6a8a38",
   "metadata": {},
   "outputs": [
    {
     "name": "stdout",
     "output_type": "stream",
     "text": [
      "donation duplicates 0\n",
      "hunger duplicates 0\n",
      "wastage duplicates 0\n"
     ]
    }
   ],
   "source": [
    "# drop any duplicates\n",
    "\n",
    "donations = donations.drop_duplicates()\n",
    "hunger = hunger.drop_duplicates()\n",
    "wastage = wastage.drop_duplicates()\n",
    "\n",
    "donations_duplicates = donations.duplicated().sum()\n",
    "hunger_duplicates = hunger.duplicated().sum()\n",
    "wastage_duplicates = wastage.duplicated().sum()\n",
    "print(\"donation duplicates\", donations_duplicates)\n",
    "print(\"hunger duplicates\", hunger_duplicates)\n",
    "print(\"wastage duplicates\", wastage_duplicates)"
   ]
  },
  {
   "cell_type": "code",
   "execution_count": 14,
   "id": "ae8e962a-2fc9-48c9-a48e-7db4ba944e0c",
   "metadata": {},
   "outputs": [],
   "source": [
    "# impute\n",
    "\n",
    "hunger['population'] = hunger['population'].fillna(hunger['population'].median())\n",
    "hunger['hunger_index'] = hunger['hunger_index'].fillna(hunger['hunger_index'].median())\n",
    "wastage['food_wastage'] = wastage['food_wastage'].fillna(wastage['food_wastage'].mean())"
   ]
  },
  {
   "cell_type": "code",
   "execution_count": 15,
   "id": "16b4591a-36ee-4dbb-949d-89e708a9b5da",
   "metadata": {},
   "outputs": [
    {
     "data": {
      "text/html": [
       "<div>\n",
       "<style scoped>\n",
       "    .dataframe tbody tr th:only-of-type {\n",
       "        vertical-align: middle;\n",
       "    }\n",
       "\n",
       "    .dataframe tbody tr th {\n",
       "        vertical-align: top;\n",
       "    }\n",
       "\n",
       "    .dataframe thead th {\n",
       "        text-align: right;\n",
       "    }\n",
       "</style>\n",
       "<table border=\"1\" class=\"dataframe\">\n",
       "  <thead>\n",
       "    <tr style=\"text-align: right;\">\n",
       "      <th></th>\n",
       "      <th>region</th>\n",
       "      <th>donation_amount</th>\n",
       "      <th>donation_type</th>\n",
       "      <th>date</th>\n",
       "      <th>hunger_index</th>\n",
       "      <th>population</th>\n",
       "      <th>food_wastage</th>\n",
       "    </tr>\n",
       "  </thead>\n",
       "  <tbody>\n",
       "    <tr>\n",
       "      <th>0</th>\n",
       "      <td>North Africa</td>\n",
       "      <td>6324.54</td>\n",
       "      <td>food</td>\n",
       "      <td>2025-01-01</td>\n",
       "      <td>40.2</td>\n",
       "      <td>1309791.0</td>\n",
       "      <td>2513.000000</td>\n",
       "    </tr>\n",
       "    <tr>\n",
       "      <th>1</th>\n",
       "      <td>North Africa</td>\n",
       "      <td>6324.54</td>\n",
       "      <td>food</td>\n",
       "      <td>2025-01-01</td>\n",
       "      <td>40.2</td>\n",
       "      <td>1309791.0</td>\n",
       "      <td>3607.100000</td>\n",
       "    </tr>\n",
       "    <tr>\n",
       "      <th>2</th>\n",
       "      <td>North Africa</td>\n",
       "      <td>6324.54</td>\n",
       "      <td>food</td>\n",
       "      <td>2025-01-01</td>\n",
       "      <td>40.2</td>\n",
       "      <td>1309791.0</td>\n",
       "      <td>3071.584112</td>\n",
       "    </tr>\n",
       "    <tr>\n",
       "      <th>3</th>\n",
       "      <td>North Africa</td>\n",
       "      <td>6324.54</td>\n",
       "      <td>food</td>\n",
       "      <td>2025-01-01</td>\n",
       "      <td>40.2</td>\n",
       "      <td>1309791.0</td>\n",
       "      <td>4987.100000</td>\n",
       "    </tr>\n",
       "    <tr>\n",
       "      <th>4</th>\n",
       "      <td>North Africa</td>\n",
       "      <td>6324.54</td>\n",
       "      <td>food</td>\n",
       "      <td>2025-01-01</td>\n",
       "      <td>40.2</td>\n",
       "      <td>1309791.0</td>\n",
       "      <td>1914.000000</td>\n",
       "    </tr>\n",
       "  </tbody>\n",
       "</table>\n",
       "</div>"
      ],
      "text/plain": [
       "         region  donation_amount donation_type        date  hunger_index  \\\n",
       "0  North Africa          6324.54          food  2025-01-01          40.2   \n",
       "1  North Africa          6324.54          food  2025-01-01          40.2   \n",
       "2  North Africa          6324.54          food  2025-01-01          40.2   \n",
       "3  North Africa          6324.54          food  2025-01-01          40.2   \n",
       "4  North Africa          6324.54          food  2025-01-01          40.2   \n",
       "\n",
       "   population  food_wastage  \n",
       "0   1309791.0   2513.000000  \n",
       "1   1309791.0   3607.100000  \n",
       "2   1309791.0   3071.584112  \n",
       "3   1309791.0   4987.100000  \n",
       "4   1309791.0   1914.000000  "
      ]
     },
     "execution_count": 15,
     "metadata": {},
     "output_type": "execute_result"
    }
   ],
   "source": [
    "# Merge donations and hunger data to link donations with hunger levels\n",
    "combined = pd.merge(donations, hunger, on='region', how='inner') #combine donations and hunger datasets\n",
    "combined = pd.merge(combined, wastage, on='region', how='inner') # add food wastage per region\n",
    "combined.head()"
   ]
  },
  {
   "cell_type": "code",
   "execution_count": 16,
   "id": "f892ed8c-c5c4-42d4-a1e7-415f9d4cb3d1",
   "metadata": {},
   "outputs": [
    {
     "data": {
      "text/html": [
       "<div>\n",
       "<style scoped>\n",
       "    .dataframe tbody tr th:only-of-type {\n",
       "        vertical-align: middle;\n",
       "    }\n",
       "\n",
       "    .dataframe tbody tr th {\n",
       "        vertical-align: top;\n",
       "    }\n",
       "\n",
       "    .dataframe thead th {\n",
       "        text-align: right;\n",
       "    }\n",
       "</style>\n",
       "<table border=\"1\" class=\"dataframe\">\n",
       "  <thead>\n",
       "    <tr style=\"text-align: right;\">\n",
       "      <th></th>\n",
       "      <th>region</th>\n",
       "      <th>donation_amount</th>\n",
       "      <th>donation_type</th>\n",
       "      <th>date</th>\n",
       "      <th>hunger_index</th>\n",
       "      <th>population</th>\n",
       "      <th>food_wastage</th>\n",
       "      <th>donation_per_capita</th>\n",
       "    </tr>\n",
       "  </thead>\n",
       "  <tbody>\n",
       "    <tr>\n",
       "      <th>0</th>\n",
       "      <td>North Africa</td>\n",
       "      <td>6324.54</td>\n",
       "      <td>food</td>\n",
       "      <td>2025-01-01</td>\n",
       "      <td>40.2</td>\n",
       "      <td>1309791.0</td>\n",
       "      <td>2513.000000</td>\n",
       "      <td>0.004829</td>\n",
       "    </tr>\n",
       "    <tr>\n",
       "      <th>1</th>\n",
       "      <td>North Africa</td>\n",
       "      <td>6324.54</td>\n",
       "      <td>food</td>\n",
       "      <td>2025-01-01</td>\n",
       "      <td>40.2</td>\n",
       "      <td>1309791.0</td>\n",
       "      <td>3607.100000</td>\n",
       "      <td>0.004829</td>\n",
       "    </tr>\n",
       "    <tr>\n",
       "      <th>2</th>\n",
       "      <td>North Africa</td>\n",
       "      <td>6324.54</td>\n",
       "      <td>food</td>\n",
       "      <td>2025-01-01</td>\n",
       "      <td>40.2</td>\n",
       "      <td>1309791.0</td>\n",
       "      <td>3071.584112</td>\n",
       "      <td>0.004829</td>\n",
       "    </tr>\n",
       "    <tr>\n",
       "      <th>3</th>\n",
       "      <td>North Africa</td>\n",
       "      <td>6324.54</td>\n",
       "      <td>food</td>\n",
       "      <td>2025-01-01</td>\n",
       "      <td>40.2</td>\n",
       "      <td>1309791.0</td>\n",
       "      <td>4987.100000</td>\n",
       "      <td>0.004829</td>\n",
       "    </tr>\n",
       "    <tr>\n",
       "      <th>4</th>\n",
       "      <td>North Africa</td>\n",
       "      <td>6324.54</td>\n",
       "      <td>food</td>\n",
       "      <td>2025-01-01</td>\n",
       "      <td>40.2</td>\n",
       "      <td>1309791.0</td>\n",
       "      <td>1914.000000</td>\n",
       "      <td>0.004829</td>\n",
       "    </tr>\n",
       "  </tbody>\n",
       "</table>\n",
       "</div>"
      ],
      "text/plain": [
       "         region  donation_amount donation_type        date  hunger_index  \\\n",
       "0  North Africa          6324.54          food  2025-01-01          40.2   \n",
       "1  North Africa          6324.54          food  2025-01-01          40.2   \n",
       "2  North Africa          6324.54          food  2025-01-01          40.2   \n",
       "3  North Africa          6324.54          food  2025-01-01          40.2   \n",
       "4  North Africa          6324.54          food  2025-01-01          40.2   \n",
       "\n",
       "   population  food_wastage  donation_per_capita  \n",
       "0   1309791.0   2513.000000             0.004829  \n",
       "1   1309791.0   3607.100000             0.004829  \n",
       "2   1309791.0   3071.584112             0.004829  \n",
       "3   1309791.0   4987.100000             0.004829  \n",
       "4   1309791.0   1914.000000             0.004829  "
      ]
     },
     "execution_count": 16,
     "metadata": {},
     "output_type": "execute_result"
    }
   ],
   "source": [
    "# Calculate donation_per_capita\n",
    "\n",
    "combined['donation_per_capita'] = combined['donation_amount']/combined['population']\n",
    "combined.head()"
   ]
  },
  {
   "cell_type": "code",
   "execution_count": 17,
   "id": "e988f62b-363f-4ab0-b280-45092b9ea556",
   "metadata": {},
   "outputs": [
    {
     "data": {
      "text/html": [
       "<div>\n",
       "<style scoped>\n",
       "    .dataframe tbody tr th:only-of-type {\n",
       "        vertical-align: middle;\n",
       "    }\n",
       "\n",
       "    .dataframe tbody tr th {\n",
       "        vertical-align: top;\n",
       "    }\n",
       "\n",
       "    .dataframe thead th {\n",
       "        text-align: right;\n",
       "    }\n",
       "</style>\n",
       "<table border=\"1\" class=\"dataframe\">\n",
       "  <thead>\n",
       "    <tr style=\"text-align: right;\">\n",
       "      <th></th>\n",
       "      <th>region</th>\n",
       "      <th>donation_amount</th>\n",
       "      <th>donation_type</th>\n",
       "      <th>date</th>\n",
       "      <th>hunger_index</th>\n",
       "      <th>population</th>\n",
       "      <th>food_wastage</th>\n",
       "      <th>donation_per_capita</th>\n",
       "      <th>need_category</th>\n",
       "    </tr>\n",
       "  </thead>\n",
       "  <tbody>\n",
       "    <tr>\n",
       "      <th>0</th>\n",
       "      <td>North Africa</td>\n",
       "      <td>6324.54</td>\n",
       "      <td>food</td>\n",
       "      <td>2025-01-01</td>\n",
       "      <td>40.2</td>\n",
       "      <td>1309791.0</td>\n",
       "      <td>2513.000000</td>\n",
       "      <td>0.004829</td>\n",
       "      <td>Medium Need</td>\n",
       "    </tr>\n",
       "    <tr>\n",
       "      <th>1</th>\n",
       "      <td>North Africa</td>\n",
       "      <td>6324.54</td>\n",
       "      <td>food</td>\n",
       "      <td>2025-01-01</td>\n",
       "      <td>40.2</td>\n",
       "      <td>1309791.0</td>\n",
       "      <td>3607.100000</td>\n",
       "      <td>0.004829</td>\n",
       "      <td>Medium Need</td>\n",
       "    </tr>\n",
       "    <tr>\n",
       "      <th>2</th>\n",
       "      <td>North Africa</td>\n",
       "      <td>6324.54</td>\n",
       "      <td>food</td>\n",
       "      <td>2025-01-01</td>\n",
       "      <td>40.2</td>\n",
       "      <td>1309791.0</td>\n",
       "      <td>3071.584112</td>\n",
       "      <td>0.004829</td>\n",
       "      <td>Medium Need</td>\n",
       "    </tr>\n",
       "    <tr>\n",
       "      <th>3</th>\n",
       "      <td>North Africa</td>\n",
       "      <td>6324.54</td>\n",
       "      <td>food</td>\n",
       "      <td>2025-01-01</td>\n",
       "      <td>40.2</td>\n",
       "      <td>1309791.0</td>\n",
       "      <td>4987.100000</td>\n",
       "      <td>0.004829</td>\n",
       "      <td>Medium Need</td>\n",
       "    </tr>\n",
       "    <tr>\n",
       "      <th>4</th>\n",
       "      <td>North Africa</td>\n",
       "      <td>6324.54</td>\n",
       "      <td>food</td>\n",
       "      <td>2025-01-01</td>\n",
       "      <td>40.2</td>\n",
       "      <td>1309791.0</td>\n",
       "      <td>1914.000000</td>\n",
       "      <td>0.004829</td>\n",
       "      <td>Medium Need</td>\n",
       "    </tr>\n",
       "  </tbody>\n",
       "</table>\n",
       "</div>"
      ],
      "text/plain": [
       "         region  donation_amount donation_type        date  hunger_index  \\\n",
       "0  North Africa          6324.54          food  2025-01-01          40.2   \n",
       "1  North Africa          6324.54          food  2025-01-01          40.2   \n",
       "2  North Africa          6324.54          food  2025-01-01          40.2   \n",
       "3  North Africa          6324.54          food  2025-01-01          40.2   \n",
       "4  North Africa          6324.54          food  2025-01-01          40.2   \n",
       "\n",
       "   population  food_wastage  donation_per_capita need_category  \n",
       "0   1309791.0   2513.000000             0.004829   Medium Need  \n",
       "1   1309791.0   3607.100000             0.004829   Medium Need  \n",
       "2   1309791.0   3071.584112             0.004829   Medium Need  \n",
       "3   1309791.0   4987.100000             0.004829   Medium Need  \n",
       "4   1309791.0   1914.000000             0.004829   Medium Need  "
      ]
     },
     "execution_count": 17,
     "metadata": {},
     "output_type": "execute_result"
    }
   ],
   "source": [
    "# Categorize regions into \"High Need,\" \"Medium Need,\" and \"Low Need\" based on hunger index\n",
    "\n",
    "def categorize_need(hunger_index):\n",
    "    if hunger_index > 70:\n",
    "        return \"High Need\"\n",
    "    elif hunger_index > 40:\n",
    "        return \"Medium Need\"\n",
    "    else:\n",
    "        return \"Low Need\"\n",
    "\n",
    "combined['need_category'] = combined['hunger_index'].apply(categorize_need)\n",
    "\n",
    "combined.head()"
   ]
  },
  {
   "cell_type": "code",
   "execution_count": 18,
   "id": "edf89cd5-16ee-4f75-82e1-23d93258211d",
   "metadata": {},
   "outputs": [
    {
     "name": "stdout",
     "output_type": "stream",
     "text": [
      "               region  donation_amount  hunger_index\n",
      "225      North Africa          6324.54          89.0\n",
      "226      North Africa          6324.54          89.0\n",
      "227      North Africa          6324.54          89.0\n",
      "228      North Africa          6324.54          89.0\n",
      "229      North Africa          6324.54          89.0\n",
      "...               ...              ...           ...\n",
      "1509543   West Africa          2747.00          77.5\n",
      "1509544   West Africa          2747.00          77.5\n",
      "1509545   West Africa          2747.00          77.5\n",
      "1509546   West Africa          2747.00          77.5\n",
      "1509547   West Africa          2747.00          77.5\n",
      "\n",
      "[336124 rows x 3 columns]\n"
     ]
    }
   ],
   "source": [
    "# Filter for regions with \"High Need\"\n",
    "\n",
    "high_need = combined[combined['need_category'] == 'High Need']\n",
    "print(high_need[['region', 'donation_amount', 'hunger_index']])"
   ]
  },
  {
   "cell_type": "code",
   "execution_count": 19,
   "id": "9fa946b4-c7a4-4fd1-83f5-3e646e048741",
   "metadata": {},
   "outputs": [
    {
     "name": "stdout",
     "output_type": "stream",
     "text": [
      "need_category\n",
      "High Need      1.682332e+09\n",
      "Low Need       2.549011e+09\n",
      "Medium Need    3.310187e+09\n",
      "Name: donation_amount, dtype: float64\n"
     ]
    }
   ],
   "source": [
    "# Group data by need category and calculate total donations\n",
    "\n",
    "grouped = combined.groupby('need_category')['donation_amount'].sum()\n",
    "print(grouped)"
   ]
  },
  {
   "cell_type": "code",
   "execution_count": 20,
   "id": "5b07b513-d391-46db-a199-7a3ea6e58cc5",
   "metadata": {},
   "outputs": [
    {
     "data": {
      "image/png": "[encoded data removed]",
      "text/plain": [
       "<Figure size 640x480 with 1 Axes>"
      ]
     },
     "metadata": {},
     "output_type": "display_data"
    }
   ],
   "source": [
    "# Plot donations by need category\n",
    "\n",
    "import matplotlib.pyplot as plt\n",
    "grouped.plot(kind='bar', title='Donation by Need Category', ylabel='Total Donation')\n",
    "plt.show()"
   ]
  },
  {
   "cell_type": "code",
   "execution_count": null,
   "id": "9324ba03-8a85-4e85-b4d5-a4550b9eda2c",
   "metadata": {},
   "outputs": [],
   "source": []
  }
 ],
 "metadata": {
  "kernelspec": {
   "display_name": "Python 3 (ipykernel)",
   "language": "python",
   "name": "python3"
  },
  "language_info": {
   "codemirror_mode": {
    "name": "ipython",
    "version": 3
   },
   "file_extension": ".py",
   "mimetype": "text/x-python",
   "name": "python",
   "nbconvert_exporter": "python",
   "pygments_lexer": "ipython3",
   "version": "3.12.7"
  }
 },
 "nbformat": 4,
 "nbformat_minor": 5
}
