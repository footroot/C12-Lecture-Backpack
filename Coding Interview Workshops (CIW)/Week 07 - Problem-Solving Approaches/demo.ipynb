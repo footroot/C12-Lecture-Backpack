{
 "cells": [
  {
   "cell_type": "markdown",
   "metadata": {},
   "source": [
    "### Let's solve a problem together using the method we just learnt!\n",
    "#### Our problem is:\n",
    "> Given an array of integers, find two numbers that add up to a target sum.\n"
   ]
  },
  {
   "cell_type": "markdown",
   "metadata": {},
   "source": [
    "1. Understand the problem"
   ]
  },
  {
   "cell_type": "markdown",
   "metadata": {},
   "source": [
    "- Inputs: Array (lists) -> how are we getting them?, Integers -> how strict?, Integer (sum), Negative Ints\n",
    "- Outputs: 2 integer -> how do we return this?\n",
    "- [1, 2, 3, 4, 7], 7 -> [3, 4]\n",
    "\n",
    "- Edge Cases: our list is empty -> return [], if the answer doesn't exist -> return [], multiple solutions -> return the first one we find, duplicate values -> we won't have duplicates, only one value in our list -> return [], target sum is in the list -> we can't use it unless zero is in the list as well\n",
    "- Constraints: same integer twice -> we can't do that, only use 2 numbers, you can add them, they only be in the list"
   ]
  },
  {
   "cell_type": "markdown",
   "metadata": {},
   "source": [
    "2. Plan the solution"
   ]
  },
  {
   "cell_type": "markdown",
   "metadata": {},
   "source": [
    "- Brute force: Loop through the list, for each element loop through the rest of the list checking each sum whether it equals target O(n2)\n",
    "\n",
    "\n",
    "- Optimised solution: HashTable (dictionary, map) -> for loop check if complement in hashtable each element store complement as key, element as the value O(n)"
   ]
  },
  {
   "cell_type": "markdown",
   "metadata": {},
   "source": [
    "3. Code, then go back and optimise"
   ]
  },
  {
   "cell_type": "code",
   "execution_count": 6,
   "metadata": {},
   "outputs": [
    {
     "name": "stdout",
     "output_type": "stream",
     "text": [
      "[3, 4]\n"
     ]
    }
   ],
   "source": [
    "def two_sum (int_list, target_sum):\n",
    "    if len(int_list) < 2:\n",
    "        return []\n",
    "\n",
    "    for i in range(len(int_list)):\n",
    "        a = int_list[i]\n",
    "        for j in range(i+1, len(int_list)):\n",
    "            if (a+int_list[j]) == target_sum:\n",
    "                return [a, int_list[j]]\n",
    "            \n",
    "    return []\n",
    "\n",
    "print(two_sum([1, 2, 3, 4, 7], 7))"
   ]
  },
  {
   "cell_type": "markdown",
   "metadata": {},
   "source": [
    "4. Iterate based on feedback and optimise!"
   ]
  },
  {
   "cell_type": "code",
   "execution_count": 13,
   "metadata": {},
   "outputs": [
    {
     "name": "stdout",
     "output_type": "stream",
     "text": [
      "[4, 3]\n"
     ]
    }
   ],
   "source": [
    "def two_sum_opt (int_list, target_sum):\n",
    "    if len(int_list) < 2:\n",
    "        return []\n",
    "\n",
    "    comp = {}\n",
    "    for i in range(len(int_list)):\n",
    "        a = int_list[i]\n",
    "        if a in comp.keys():\n",
    "            return [a, comp[a]]\n",
    "        else:\n",
    "            comp[target_sum-a] = a\n",
    "\n",
    "    return []\n",
    "\n",
    "print(two_sum_opt([1, 2, 3, 4, 7], 7))"
   ]
  }
 ],
 "metadata": {
  "kernelspec": {
   "display_name": "Python 3",
   "language": "python",
   "name": "python3"
  },
  "language_info": {
   "codemirror_mode": {
    "name": "ipython",
    "version": 3
   },
   "file_extension": ".py",
   "mimetype": "text/x-python",
   "name": "python",
   "nbconvert_exporter": "python",
   "pygments_lexer": "ipython3",
   "version": "3.10.4"
  }
 },
 "nbformat": 4,
 "nbformat_minor": 2
}
