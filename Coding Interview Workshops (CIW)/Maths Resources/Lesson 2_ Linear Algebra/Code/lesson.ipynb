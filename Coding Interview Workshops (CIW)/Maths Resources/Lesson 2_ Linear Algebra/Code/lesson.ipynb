{
 "cells": [
  {
   "cell_type": "code",
   "execution_count": 57,
   "metadata": {},
   "outputs": [],
   "source": [
    "import numpy as np\n",
    "from sklearn.datasets import load_iris\n",
    "from sklearn.decomposition import PCA\n",
    "from sklearn.preprocessing import StandardScaler"
   ]
  },
  {
   "cell_type": "code",
   "execution_count": 58,
   "metadata": {},
   "outputs": [
    {
     "name": "stdout",
     "output_type": "stream",
     "text": [
      "Vector Spaces:\n",
      "Closure under addition: [4 6]\n",
      "Closure under scalar multiplication: [2 4]\n"
     ]
    }
   ],
   "source": [
    "# Vector Spaces\n",
    "print(\"Vector Spaces:\")\n",
    "# Closure under addition and scalar multiplication\n",
    "v1 = np.array([1, 2])\n",
    "v2 = np.array([3, 4])\n",
    "print(f\"Closure under addition: {v1 + v2}\")\n",
    "print(f\"Closure under scalar multiplication: {2 * v1}\")"
   ]
  },
  {
   "cell_type": "code",
   "execution_count": 59,
   "metadata": {},
   "outputs": [
    {
     "name": "stdout",
     "output_type": "stream",
     "text": [
      "Span of standard basis: [[1 0 0]\n",
      " [0 1 0]\n",
      " [0 0 1]]\n"
     ]
    }
   ],
   "source": [
    "# Span example\n",
    "v1 = np.array([1, 0, 0])\n",
    "v2 = np.array([0, 1, 0])\n",
    "v3 = np.array([0, 0, 1])\n",
    "print(f\"Span of standard basis: {np.vstack((v1, v2, v3))}\")"
   ]
  },
  {
   "cell_type": "code",
   "execution_count": 60,
   "metadata": {},
   "outputs": [
    {
     "name": "stdout",
     "output_type": "stream",
     "text": [
      "Linear independence: True\n",
      "Dimension of iris dataset: 4\n"
     ]
    }
   ],
   "source": [
    "# Linear independence and dimension\n",
    "v1 = np.array([1, 0])\n",
    "v2 = np.array([0, 1])\n",
    "v3 = np.array([2, 2])\n",
    "print(f\"Linear independence: {np.linalg.matrix_rank(np.vstack((v1, v2, v3))) == 2}\")\n",
    "iris = load_iris()\n",
    "X = iris.data\n",
    "print(f\"Dimension of iris dataset: {X.shape[1]}\")"
   ]
  },
  {
   "cell_type": "code",
   "execution_count": 61,
   "metadata": {},
   "outputs": [
    {
     "name": "stdout",
     "output_type": "stream",
     "text": [
      "\n",
      "Matrix Operations:\n",
      "A + B:\n",
      "[[ 6  8]\n",
      " [10 12]]\n",
      "A - B:\n",
      "[[-4 -4]\n",
      " [-4 -4]]\n",
      "2 * A:\n",
      "[[2 4]\n",
      " [6 8]]\n"
     ]
    }
   ],
   "source": [
    "# Matrix Operations\n",
    "print(\"\\nMatrix Operations:\")\n",
    "# Addition, subtraction, and scalar multiplication\n",
    "A = np.array([[1, 2], [3, 4]])\n",
    "B = np.array([[5, 6], [7, 8]])\n",
    "print(f\"A + B:\\n{A + B}\")\n",
    "print(f\"A - B:\\n{A - B}\")\n",
    "print(f\"2 * A:\\n{2 * A}\")"
   ]
  },
  {
   "cell_type": "code",
   "execution_count": 62,
   "metadata": {},
   "outputs": [
    {
     "name": "stdout",
     "output_type": "stream",
     "text": [
      "A * B:\n",
      "[[19 22]\n",
      " [43 50]]\n"
     ]
    }
   ],
   "source": [
    "# Multiplication example\n",
    "print(f\"A * B:\\n{A @ B}\")"
   ]
  },
  {
   "cell_type": "code",
   "execution_count": 63,
   "metadata": {},
   "outputs": [
    {
     "name": "stdout",
     "output_type": "stream",
     "text": [
      "A^T:\n",
      "[[1 3]\n",
      " [2 4]]\n"
     ]
    }
   ],
   "source": [
    "# Transpose example\n",
    "print(f\"A^T:\\n{A.T}\")"
   ]
  },
  {
   "cell_type": "code",
   "execution_count": 64,
   "metadata": {},
   "outputs": [
    {
     "name": "stdout",
     "output_type": "stream",
     "text": [
      "\n",
      "Eigenvalues and Eigenvectors:\n",
      "Eigenvalues of A: [-1.  5.]\n",
      "Eigenvectors of A: [[-0.89442719 -0.70710678]\n",
      " [ 0.4472136  -0.70710678]]\n"
     ]
    }
   ],
   "source": [
    "A = np.array([[1, 4], [2, 3]])\n",
    "# Eigenvalues and Eigenvectors\n",
    "print(\"\\nEigenvalues and Eigenvectors:\")\n",
    "# Eigendecomposition example\n",
    "evals, evecs = np.linalg.eig(A)\n",
    "print(f\"Eigenvalues of A: {evals}\")\n",
    "print(f\"Eigenvectors of A: {evecs}\")"
   ]
  },
  {
   "cell_type": "code",
   "execution_count": 65,
   "metadata": {},
   "outputs": [
    {
     "name": "stdout",
     "output_type": "stream",
     "text": [
      "Explained variance ratio of PCA on iris: [0.92461872 0.05306648]\n"
     ]
    }
   ],
   "source": [
    "# PCA example\n",
    "pca = PCA(n_components=2)\n",
    "X_pca = pca.fit_transform(X)\n",
    "print(f\"Explained variance ratio of PCA on iris: {pca.explained_variance_ratio_}\")"
   ]
  },
  {
   "cell_type": "code",
   "execution_count": 66,
   "metadata": {},
   "outputs": [
    {
     "name": "stdout",
     "output_type": "stream",
     "text": [
      "\n",
      "Linear Transformations:\n",
      "2 * v: [2 4 6]\n"
     ]
    }
   ],
   "source": [
    "# Linear Transformations\n",
    "print(\"\\nLinear Transformations:\")\n",
    "# Scaling example\n",
    "v = np.array([1, 2, 3])\n",
    "print(f\"2 * v: {2 * v}\")"
   ]
  },
  {
   "cell_type": "code",
   "execution_count": 67,
   "metadata": {},
   "outputs": [
    {
     "name": "stdout",
     "output_type": "stream",
     "text": [
      "\n",
      "Linear Systems:\n",
      "Least squares solution: [1. 1.]\n"
     ]
    }
   ],
   "source": [
    "# Linear Systems  \n",
    "print(\"\\nLinear Systems:\")\n",
    "# Overdetermined example\n",
    "A = np.array([[1,2],[3,4],[5,6]])\n",
    "b = np.array([3,7,11])\n",
    "x, residuals, _, _ = np.linalg.lstsq(A, b, rcond=None)\n",
    "print(f\"Least squares solution: {x}\")"
   ]
  },
  {
   "cell_type": "code",
   "execution_count": 68,
   "metadata": {},
   "outputs": [
    {
     "name": "stdout",
     "output_type": "stream",
     "text": [
      "Rotation matrix for π/4: [[ 0.70710678 -0.70710678]\n",
      " [ 0.70710678  0.70710678]]\n"
     ]
    }
   ],
   "source": [
    "# Rotation example\n",
    "θ = np.pi / 4\n",
    "R = np.array([[np.cos(θ), -np.sin(θ)], [np.sin(θ), np.cos(θ)]])\n",
    "print(f\"Rotation matrix for π/4: {R}\")"
   ]
  },
  {
   "cell_type": "code",
   "execution_count": 69,
   "metadata": {},
   "outputs": [
    {
     "name": "stdout",
     "output_type": "stream",
     "text": [
      "Additivity: T(v1 + v2) = [ 8 18], T(v1) + T(v2) = [ 8 18]\n",
      "Homogeneity: T(2 * v1) = [ 4 12], 2 * T(v1) = [ 4 12]\n"
     ]
    }
   ],
   "source": [
    "# Additivity and homogeneity\n",
    "T = lambda v: np.array([2 * v[0], 3 * v[1]])\n",
    "v1 = np.array([1, 2])\n",
    "v2 = np.array([3, 4])\n",
    "print(f\"Additivity: T(v1 + v2) = {T(v1 + v2)}, T(v1) + T(v2) = {T(v1) + T(v2)}\")\n",
    "print(f\"Homogeneity: T(2 * v1) = {T(2 * v1)}, 2 * T(v1) = {2 * T(v1)}\")\n"
   ]
  },
  {
   "cell_type": "code",
   "execution_count": 70,
   "metadata": {},
   "outputs": [
    {
     "name": "stdout",
     "output_type": "stream",
     "text": [
      "Mean of scaled iris data: [-1.69031455e-15 -1.84297022e-15 -1.69864123e-15 -1.40924309e-15]\n",
      "Stddev of scaled iris data: [1. 1. 1. 1.]\n"
     ]
    }
   ],
   "source": [
    "# Whitening example\n",
    "scaler = StandardScaler()\n",
    "X_scaled = scaler.fit_transform(X)\n",
    "print(f\"Mean of scaled iris data: {X_scaled.mean(axis=0)}\")\n",
    "print(f\"Stddev of scaled iris data: {X_scaled.std(axis=0)}\")"
   ]
  },
  {
   "cell_type": "code",
   "execution_count": 71,
   "metadata": {},
   "outputs": [
    {
     "name": "stdout",
     "output_type": "stream",
     "text": [
      "\n",
      "Linear Systems:\n",
      "Linear system:\n",
      "[[ 2  3]\n",
      " [ 4 -1]]x = [5 3]\n"
     ]
    }
   ],
   "source": [
    "# Linear Systems\n",
    "print(\"\\nLinear Systems:\")\n",
    "# Representing linear systems\n",
    "A = np.array([[2, 3], [4, -1]])\n",
    "b = np.array([5, 3])\n",
    "print(f\"Linear system:\\n{A}x = {b}\")"
   ]
  },
  {
   "cell_type": "code",
   "execution_count": 72,
   "metadata": {},
   "outputs": [
    {
     "name": "stdout",
     "output_type": "stream",
     "text": [
      "Solution using matrix inverse: [1. 1.]\n"
     ]
    }
   ],
   "source": [
    "# Solving using matrix inverse\n",
    "x = np.linalg.inv(A) @ b\n",
    "print(f\"Solution using matrix inverse: {x}\")"
   ]
  },
  {
   "cell_type": "code",
   "execution_count": 79,
   "metadata": {},
   "outputs": [
    {
     "name": "stdout",
     "output_type": "stream",
     "text": [
      "Augmented matrix:\n",
      "[[1 2 3 7]\n",
      " [4 5 6 8]]\n",
      "Row echelon form:\n",
      "[[ 1  0 -1 -5]\n",
      " [ 0  1  2  6]]\n",
      "Solution using Gaussian elimination: [-1  2]\n"
     ]
    }
   ],
   "source": [
    "# Solving using Gaussian elimination\n",
    "A_aug = np.hstack((A, b.reshape(-1, 1)))\n",
    "print(f\"Augmented matrix:\\n{A_aug}\")\n",
    "A_ref = A_aug.copy()\n",
    "A_ref[1] = A_ref[1] - A_ref[0] * A_ref[1, 0] / A_ref[0, 0]\n",
    "A_ref[1] = A_ref[1] / A_ref[1, 1]\n",
    "A_ref[0] = A_ref[0] - A_ref[1] * A_ref[0, 1]\n",
    "A_ref[0] = A_ref[0] / A_ref[0, 0]\n",
    "print(f\"Row echelon form:\\n{A_ref}\")\n",
    "x = A_ref[:, 2]\n",
    "print(f\"Solution using Gaussian elimination: {x}\")"
   ]
  },
  {
   "cell_type": "code",
   "execution_count": 81,
   "metadata": {},
   "outputs": [
    {
     "name": "stdout",
     "output_type": "stream",
     "text": [
      "Least squares solution: [1. 1.]\n"
     ]
    }
   ],
   "source": [
    "# Overdetermined example\n",
    "A = np.array([[1, 2], [3, 4], [5, 6]])\n",
    "b = np.array([3, 7, 11])\n",
    "x, residuals, _, _ = np.linalg.lstsq(A, b, rcond=None)\n",
    "print(f\"Least squares solution: {x}\")"
   ]
  },
  {
   "cell_type": "code",
   "execution_count": 82,
   "metadata": {},
   "outputs": [
    {
     "name": "stdout",
     "output_type": "stream",
     "text": [
      "Minimum norm solution: [-3.05555556  0.11111111  3.27777778]\n"
     ]
    }
   ],
   "source": [
    "# Underdetermined example\n",
    "A = np.array([[1, 2, 3], [4, 5, 6]])\n",
    "b = np.array([7, 8])\n",
    "x = np.linalg.pinv(A) @ b\n",
    "print(f\"Minimum norm solution: {x}\")"
   ]
  },
  {
   "cell_type": "code",
   "execution_count": 86,
   "metadata": {},
   "outputs": [
    {
     "name": "stdout",
     "output_type": "stream",
     "text": [
      "\n",
      "Application: Recommendation System\n",
      "User-item matrix:\n",
      "[[4 0 3 0]\n",
      " [0 2 0 5]\n",
      " [1 0 0 4]\n",
      " [0 0 0 2]]\n"
     ]
    }
   ],
   "source": [
    "# Application: Recommendation System\n",
    "print(\"\\nApplication: Recommendation System\")\n",
    "# User-item matrix\n",
    "R = np.array([[4, 0, 3, 0], [0, 2, 0, 5], [1, 0, 0, 4], [0, 0, 0, 2]])\n",
    "print(f\"User-item matrix:\\n{R}\")"
   ]
  },
  {
   "cell_type": "code",
   "execution_count": 89,
   "metadata": {},
   "outputs": [
    {
     "name": "stdout",
     "output_type": "stream",
     "text": [
      "User-item matrix:\n",
      "[[4 0 3 0]\n",
      " [0 2 0 5]\n",
      " [1 0 0 4]\n",
      " [0 0 0 2]]\n",
      "Solution to system of linear equations:\n",
      "[1.00000000e+00 2.00000000e+00 3.00000000e+00 1.11022302e-16]\n"
     ]
    }
   ],
   "source": [
    "# Solve system of linear equations\n",
    "A = np.array([[1, 0, 1, 0], [0, 1, 0, 1], [1, 0, 0, 1]])\n",
    "b = np.array([4, 2, 1])\n",
    "x = np.linalg.pinv(A) @ b\n",
    "print(f\"User-item matrix:\\n{R}\")\n",
    "print(f\"Solution to system of linear equations:\\n{x}\")"
   ]
  },
  {
   "cell_type": "code",
   "execution_count": 84,
   "metadata": {},
   "outputs": [
    {
     "name": "stdout",
     "output_type": "stream",
     "text": [
      "Left singular vectors:\n",
      "[[-0.10109006  0.98522194  0.12230793  0.06449261]\n",
      " [-0.76031483 -0.15376535  0.62997724 -0.03750013]\n",
      " [-0.57794593  0.05491501 -0.70804659 -0.4020359 ]\n",
      " [-0.27871251 -0.05175215 -0.29468538  0.91257963]]\n",
      "Singular values: [6.91871065 5.022246   1.35786722 0.25433187]\n",
      "Right singular vectors:\n",
      "[[-0.14197821 -0.21978512 -0.04383334 -0.96416561]\n",
      " [ 0.79562068 -0.0612337   0.58851475 -0.129956  ]\n",
      " [-0.16114601  0.92789225  0.27022066 -0.20007181]\n",
      " [-0.56644672 -0.29489135  0.7607298   0.11604904]]\n"
     ]
    }
   ],
   "source": [
    "# Singular Value Decomposition\n",
    "U, Σ, V = np.linalg.svd(R)\n",
    "print(f\"Left singular vectors:\\n{U}\")\n",
    "print(f\"Singular values: {Σ}\")\n",
    "print(f\"Right singular vectors:\\n{V}\")"
   ]
  },
  {
   "cell_type": "code",
   "execution_count": 85,
   "metadata": {},
   "outputs": [
    {
     "name": "stdout",
     "output_type": "stream",
     "text": [
      "Low-rank approximation with k=2:\n",
      "[[ 4.03605395 -0.14926545  2.94264442  0.03132401]\n",
      " [ 0.13244593  1.20344484 -0.22389818  5.17225333]\n",
      " [ 0.78714938  0.86195367  0.33758417  3.81951038]\n",
      " [ 0.06698965  0.43973388 -0.06843686  1.89300778]]\n"
     ]
    }
   ],
   "source": [
    "# Low-rank approximation\n",
    "k = 2\n",
    "R_approx = U[:, :k] @ np.diag(Σ[:k]) @ V[:k, :]\n",
    "print(f\"Low-rank approximation with k={k}:\\n{R_approx}\")"
   ]
  },
  {
   "cell_type": "code",
   "execution_count": null,
   "metadata": {},
   "outputs": [],
   "source": []
  }
 ],
 "metadata": {
  "kernelspec": {
   "display_name": "Python 3",
   "language": "python",
   "name": "python3"
  },
  "language_info": {
   "codemirror_mode": {
    "name": "ipython",
    "version": 3
   },
   "file_extension": ".py",
   "mimetype": "text/x-python",
   "name": "python",
   "nbconvert_exporter": "python",
   "pygments_lexer": "ipython3",
   "version": "3.11.6"
  }
 },
 "nbformat": 4,
 "nbformat_minor": 2
}
